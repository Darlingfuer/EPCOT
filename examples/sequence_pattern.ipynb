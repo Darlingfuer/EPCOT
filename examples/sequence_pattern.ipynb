{
  "cells": [
    {
      "cell_type": "code",
      "execution_count": 1,
      "metadata": {
        "colab": {
          "base_uri": "https://localhost:8080/"
        },
        "id": "WXM4Zr2m6eIS",
        "outputId": "2a6639f5-47ee-4c5e-acdd-84fccc8bdd1b"
      },
      "outputs": [
        {
          "output_type": "stream",
          "name": "stdout",
          "text": [
            "Looking in indexes: https://pypi.org/simple, https://us-python.pkg.dev/colab-wheels/public/simple/\n",
            "Requirement already satisfied: gdown in /usr/local/lib/python3.7/dist-packages (4.4.0)\n",
            "Requirement already satisfied: beautifulsoup4 in /usr/local/lib/python3.7/dist-packages (from gdown) (4.6.3)\n",
            "Requirement already satisfied: requests[socks] in /usr/local/lib/python3.7/dist-packages (from gdown) (2.23.0)\n",
            "Requirement already satisfied: six in /usr/local/lib/python3.7/dist-packages (from gdown) (1.15.0)\n",
            "Requirement already satisfied: filelock in /usr/local/lib/python3.7/dist-packages (from gdown) (3.7.1)\n",
            "Requirement already satisfied: tqdm in /usr/local/lib/python3.7/dist-packages (from gdown) (4.64.0)\n",
            "Requirement already satisfied: urllib3!=1.25.0,!=1.25.1,<1.26,>=1.21.1 in /usr/local/lib/python3.7/dist-packages (from requests[socks]->gdown) (1.24.3)\n",
            "Requirement already satisfied: certifi>=2017.4.17 in /usr/local/lib/python3.7/dist-packages (from requests[socks]->gdown) (2022.6.15)\n",
            "Requirement already satisfied: idna<3,>=2.5 in /usr/local/lib/python3.7/dist-packages (from requests[socks]->gdown) (2.10)\n",
            "Requirement already satisfied: chardet<4,>=3.0.2 in /usr/local/lib/python3.7/dist-packages (from requests[socks]->gdown) (3.0.4)\n",
            "Requirement already satisfied: PySocks!=1.5.7,>=1.5.6 in /usr/local/lib/python3.7/dist-packages (from requests[socks]->gdown) (1.7.1)\n"
          ]
        }
      ],
      "source": [
        "!pip install kipoiseq==0.5.2 --quiet > /dev/null\n",
        "!pip install gdown"
      ]
    },
    {
      "cell_type": "code",
      "source": [
        "!git clone https://github.com/liu-bioinfo-lab/EPCOT.git\n",
        "!mkdir models"
      ],
      "metadata": {
        "colab": {
          "base_uri": "https://localhost:8080/"
        },
        "id": "Xp95qkti7wSt",
        "outputId": "3d285efd-e758-4b30-9a22-df7808d68139"
      },
      "execution_count": 2,
      "outputs": [
        {
          "output_type": "stream",
          "name": "stdout",
          "text": [
            "Cloning into 'EPCOT'...\n",
            "remote: Enumerating objects: 1166, done.\u001b[K\n",
            "remote: Counting objects: 100% (372/372), done.\u001b[K\n",
            "remote: Compressing objects: 100% (195/195), done.\u001b[K\n",
            "remote: Total 1166 (delta 218), reused 299 (delta 174), pack-reused 794\u001b[K\n",
            "Receiving objects: 100% (1166/1166), 74.59 MiB | 27.02 MiB/s, done.\n",
            "Resolving deltas: 100% (259/259), done.\n",
            "Checking out files: 100% (753/753), done.\n"
          ]
        }
      ]
    },
    {
      "cell_type": "code",
      "source": [
        "!gdown 1z5TfuV1yo6XPrsG6vkJKGgTVgNKlh8uB --output K562_dnase.pickle\n",
        "!gdown 1_YfpNSv-2ABQV2qSyBxem-y7aJFyRNzz --output models/pretrain_dnase.pt"
      ],
      "metadata": {
        "colab": {
          "base_uri": "https://localhost:8080/"
        },
        "id": "0kk2klka-HtM",
        "outputId": "35f3e868-faac-431c-8b39-99bcfc9df2c3"
      },
      "execution_count": 3,
      "outputs": [
        {
          "output_type": "stream",
          "name": "stdout",
          "text": [
            "Downloading...\n",
            "From: https://drive.google.com/uc?id=1z5TfuV1yo6XPrsG6vkJKGgTVgNKlh8uB\n",
            "To: /content/K562_dnase.pickle\n",
            "100% 1.15G/1.15G [00:06<00:00, 168MB/s]\n",
            "Downloading...\n",
            "From: https://drive.google.com/uc?id=1_YfpNSv-2ABQV2qSyBxem-y7aJFyRNzz\n",
            "To: /content/models/pretrain_dnase.pt\n",
            "100% 100M/100M [00:00<00:00, 180MB/s] \n"
          ]
        }
      ]
    },
    {
      "cell_type": "code",
      "source": [
        "import kipoiseq\n",
        "from kipoiseq import Interval\n",
        "import pyfaidx\n",
        "import numpy as np\n",
        "import pickle\n",
        "from scipy.sparse import load_npz\n",
        "import torch\n",
        "import argparse\n",
        "import sys,os\n",
        "sys.path.append('EPCOT/')\n",
        "from pretraining.model import build_model\n",
        "from usage_util import generate_input"
      ],
      "metadata": {
        "id": "hP3GPzAGA56s"
      },
      "execution_count": 4,
      "outputs": []
    },
    {
      "cell_type": "code",
      "source": [
        "### The following codes are copied from https://github.com/deepmind/deepmind-research/blob/master/enformer/enformer-usage.ipynb\n",
        "fasta_file = '/root/data/genome.fa'\n",
        "!mkdir -p /root/data\n",
        "!wget -O - http://hgdownload.cse.ucsc.edu/goldenPath/hg38/bigZips/hg38.fa.gz | gunzip -c > {fasta_file}\n",
        "pyfaidx.Faidx(fasta_file)\n",
        "!ls /root/data\n",
        "class FastaStringExtractor:\n",
        "    def __init__(self, fasta_file):\n",
        "        self.fasta = pyfaidx.Fasta(fasta_file)\n",
        "        self._chromosome_sizes = {k: len(v) for k, v in self.fasta.items()}\n",
        "\n",
        "    def extract(self, interval: Interval, **kwargs) -> str:\n",
        "        # Truncate interval if it extends beyond the chromosome lengths.\n",
        "        chromosome_length = self._chromosome_sizes[interval.chrom]\n",
        "        trimmed_interval = Interval(interval.chrom,\n",
        "                                    max(interval.start, 0),\n",
        "                                    min(interval.end, chromosome_length),\n",
        "                                    )\n",
        "        # pyfaidx wants a 1-based interval\n",
        "        sequence = str(self.fasta.get_seq(trimmed_interval.chrom,\n",
        "                                          trimmed_interval.start + 1,\n",
        "                                          trimmed_interval.stop).seq).upper()\n",
        "        # Fill truncated values with N's.\n",
        "        pad_upstream = 'N' * max(-interval.start, 0)\n",
        "        pad_downstream = 'N' * max(interval.end - chromosome_length, 0)\n",
        "        return pad_upstream + sequence + pad_downstream\n",
        "\n",
        "    def close(self):\n",
        "        return self.fasta.close()\n",
        "def one_hot_encode(sequence):\n",
        "    return kipoiseq.transforms.functional.one_hot_dna(sequence).astype(np.float32)\n",
        "fasta_extractor = FastaStringExtractor(fasta_file)"
      ],
      "metadata": {
        "colab": {
          "base_uri": "https://localhost:8080/"
        },
        "id": "dKxAqyYjBCL7",
        "outputId": "124044ed-cc99-44a6-9443-6469148d07d4"
      },
      "execution_count": 5,
      "outputs": [
        {
          "output_type": "stream",
          "name": "stdout",
          "text": [
            "--2022-06-27 04:56:13--  http://hgdownload.cse.ucsc.edu/goldenPath/hg38/bigZips/hg38.fa.gz\n",
            "Resolving hgdownload.cse.ucsc.edu (hgdownload.cse.ucsc.edu)... 128.114.119.163\n",
            "Connecting to hgdownload.cse.ucsc.edu (hgdownload.cse.ucsc.edu)|128.114.119.163|:80... connected.\n",
            "HTTP request sent, awaiting response... 200 OK\n",
            "Length: 983659424 (938M) [application/x-gzip]\n",
            "Saving to: ‘STDOUT’\n",
            "\n",
            "-                   100%[===================>] 938.09M  34.0MB/s    in 27s     \n",
            "\n",
            "2022-06-27 04:56:40 (34.9 MB/s) - written to stdout [983659424/983659424]\n",
            "\n",
            "genome.fa  genome.fa.fai\n"
          ]
        }
      ]
    },
    {
      "cell_type": "code",
      "source": [
        "def parser_args():\n",
        "    parser = argparse.ArgumentParser(add_help=False)\n",
        "    parser.add_argument('--num_class', default=245, type=int)\n",
        "    parser.add_argument('--seq_length', default=1600, type=int)\n",
        "    parser.add_argument('--embedsize', default=320, type=int)\n",
        "    parser.add_argument('--nheads', default=4, type=int)\n",
        "    parser.add_argument('--hidden_dim', default=512, type=int)\n",
        "    parser.add_argument('--dim_feedforward', default=1024, type=int)\n",
        "    parser.add_argument('--enc_layers', default=1, type=int)\n",
        "    parser.add_argument('--dec_layers', default=2, type=int)\n",
        "    parser.add_argument('--dropout', default=0.2, type=float)\n",
        "    parser.add_argument('--fea_pos', default=False, action='store_true')\n",
        "    parser.add_argument('--load_backbone', default=False)\n",
        "    args, unknown = parser.parse_known_args()\n",
        "    return args,parser\n",
        "def get_args():\n",
        "    args,_ = parser_args()\n",
        "    return args,_\n",
        "device = torch.device('cuda:0' if torch.cuda.is_available() else 'cpu')\n",
        "args,parser = get_args()"
      ],
      "metadata": {
        "id": "-_qlpQAW-K0Y"
      },
      "execution_count": 6,
      "outputs": []
    },
    {
      "cell_type": "code",
      "source": [
        "pretrain_model= build_model(args)\n",
        "pretrain_model.to(device)\n",
        "pretrain_model.eval()\n",
        "### load pre-training model\n",
        "pretrain_model.load_state_dict(torch.load('models/pretrain_dnase.pt',map_location=device))"
      ],
      "metadata": {
        "colab": {
          "base_uri": "https://localhost:8080/"
        },
        "id": "gkdKJPqp-R84",
        "outputId": "ebc81a1c-2c75-4c1d-b9a6-e47d5c8ec7b2"
      },
      "execution_count": 7,
      "outputs": [
        {
          "output_type": "execute_result",
          "data": {
            "text/plain": [
              "<All keys matched successfully>"
            ]
          },
          "metadata": {},
          "execution_count": 7
        }
      ]
    },
    {
      "cell_type": "code",
      "source": [
        "def attribute_seq_epis(bed_file,tf_of_interest,input_dnase):\n",
        "    tf_idx=search_tf(tf_of_interest)\n",
        "    gradient=[]\n",
        "    seqs=[]\n",
        "    with open(bed_file,'r') as f:\n",
        "        for line in f:\n",
        "            chrom,start,end=line.strip().split('\\t')\n",
        "            inputs= generate_input(fasta_extractor,\n",
        "                                  chrom='chr'+chrom,start=int(start),end=int(end),\n",
        "                                  dnase=tmp_k562_dnase[chrom].toarray().squeeze())\n",
        "            inputs=inputs.to(device)\n",
        "            inputs.requires_grad=True\n",
        "            output = pretrain_model(inputs)\n",
        "            output[:, tf_idx].backward()\n",
        "            grads = inputs.grad.data.cpu().detach().numpy()\n",
        "            gradient.append(grads)\n",
        "            seqs.append(inputs.cpu().detach().numpy())\n",
        "    return np.concatenate(gradient,axis=0),np.concatenate(seqs,axis=0)\n",
        "\n",
        "def search_tf(tf):\n",
        "    with open('EPCOT/Profiles/epigenomes.txt', 'r') as f:\n",
        "        epigenomes = f.read().splitlines()\n",
        "    try:\n",
        "        tf_idx= epigenomes.index(tf)\n",
        "    except Exception:\n",
        "        raise ValueError(\"please enter a TF in the list of predicted TFs\")\n",
        "    return tf_idx\n",
        "    "
      ],
      "metadata": {
        "id": "TarrziE6-h1Y"
      },
      "execution_count": 8,
      "outputs": []
    },
    {
      "cell_type": "markdown",
      "source": [
        "The function ```attribute_seq_epis``` calculates the gradient of predicted binding activities of TF of interest with respect to the input DNA sequences, and outputs the gradient and input sequence which are used to generate sequence patterns using TF-MoDISco. This function has three arguments:\n",
        "* ```bed_file```: a bed file of TF binding sites from which the sequence patterns are learned (chromosome start end).\n",
        "* ```tf_of_interest```: TF of interest which should be chosen from the list of predicted TFs ([epigenomes.txt](https://github.com/liu-bioinfo-lab/EPCOT/blob/main/Profiles/epigenomes.txt)).\n",
        "* ```input_dnase```: The input DNase-seq to EPCOT.\n",
        "\n"
      ],
      "metadata": {
        "id": "FuWe4V-_mXqn"
      }
    },
    {
      "cell_type": "code",
      "source": [
        "!head -3 'EPCOT/examples/k562_ctcf.bed'"
      ],
      "metadata": {
        "colab": {
          "base_uri": "https://localhost:8080/"
        },
        "id": "aUVYX--_tLBc",
        "outputId": "d71289a4-d102-4cf8-f094-e18a5a832e14"
      },
      "execution_count": 9,
      "outputs": [
        {
          "output_type": "stream",
          "name": "stdout",
          "text": [
            "1\t12197000\t12198000\n",
            "1\t53763000\t53764000\n",
            "1\t23483000\t23484000\n"
          ]
        }
      ]
    },
    {
      "cell_type": "code",
      "source": [
        "with open('K562_dnase.pickle','rb') as f:\n",
        "    tmp_k562_dnase=pickle.load(f)\n",
        "ctcf_binding_bed='EPCOT/examples/k562_ctcf.bed'\n",
        "tf_of_interest='CTCF'\n",
        "\n",
        "tf_idx=search_tf(tf_of_interest)\n",
        "gradients,sequences=attribute_seq_epis(bed_file=ctcf_binding_bed,\n",
        "                         tf_of_interest=tf_of_interest,\n",
        "                         input_dnase=tmp_k562_dnase)"
      ],
      "metadata": {
        "id": "1K9tFJkn-jxd"
      },
      "execution_count": 10,
      "outputs": []
    },
    {
      "cell_type": "markdown",
      "source": [
        "After having the gradients and input sequences, we can calculate '*graident &times; input*' and run [TF-MoDISco](https://github.com/kundajelab/tfmodisco) to generate the sequence patterns. The codes below are copied from TF-MoDISco."
      ],
      "metadata": {
        "id": "0yJPIsIIvBqH"
      }
    },
    {
      "cell_type": "code",
      "source": [
        "!pip install modisco"
      ],
      "metadata": {
        "colab": {
          "base_uri": "https://localhost:8080/"
        },
        "id": "DWwe_8P6UxdX",
        "outputId": "2e3d2450-507e-453e-ba3b-d282eb58239a"
      },
      "execution_count": 11,
      "outputs": [
        {
          "output_type": "stream",
          "name": "stdout",
          "text": [
            "Looking in indexes: https://pypi.org/simple, https://us-python.pkg.dev/colab-wheels/public/simple/\n",
            "Collecting modisco\n",
            "  Downloading modisco-0.5.16.0.tar.gz (217 kB)\n",
            "\u001b[K     |████████████████████████████████| 217 kB 7.9 MB/s \n",
            "\u001b[?25hRequirement already satisfied: numpy>=1.9 in /usr/local/lib/python3.7/dist-packages (from modisco) (1.21.6)\n",
            "Requirement already satisfied: joblib>=0.11 in /usr/local/lib/python3.7/dist-packages (from modisco) (1.1.0)\n",
            "Requirement already satisfied: scikit-learn>=0.19 in /usr/local/lib/python3.7/dist-packages (from modisco) (1.0.2)\n",
            "Requirement already satisfied: h5py>=2.5 in /usr/local/lib/python3.7/dist-packages (from modisco) (3.1.0)\n",
            "Collecting leidenalg>=0.8.7\n",
            "  Downloading leidenalg-0.8.10-cp37-cp37m-manylinux_2_17_x86_64.manylinux2014_x86_64.whl (1.3 MB)\n",
            "\u001b[K     |████████████████████████████████| 1.3 MB 56.8 MB/s \n",
            "\u001b[?25hRequirement already satisfied: tqdm>=4.38.0 in /usr/local/lib/python3.7/dist-packages (from modisco) (4.64.0)\n",
            "Requirement already satisfied: psutil>=5.4.8 in /usr/local/lib/python3.7/dist-packages (from modisco) (5.4.8)\n",
            "Requirement already satisfied: matplotlib>=2.2.5 in /usr/local/lib/python3.7/dist-packages (from modisco) (3.2.2)\n",
            "Requirement already satisfied: cached-property in /usr/local/lib/python3.7/dist-packages (from h5py>=2.5->modisco) (1.5.2)\n",
            "Collecting igraph<0.10,>=0.9.0\n",
            "  Downloading igraph-0.9.11-cp37-cp37m-manylinux_2_17_x86_64.manylinux2014_x86_64.whl (3.1 MB)\n",
            "\u001b[K     |████████████████████████████████| 3.1 MB 52.5 MB/s \n",
            "\u001b[?25hCollecting texttable>=1.6.2\n",
            "  Downloading texttable-1.6.4-py2.py3-none-any.whl (10 kB)\n",
            "Requirement already satisfied: python-dateutil>=2.1 in /usr/local/lib/python3.7/dist-packages (from matplotlib>=2.2.5->modisco) (2.8.2)\n",
            "Requirement already satisfied: kiwisolver>=1.0.1 in /usr/local/lib/python3.7/dist-packages (from matplotlib>=2.2.5->modisco) (1.4.3)\n",
            "Requirement already satisfied: cycler>=0.10 in /usr/local/lib/python3.7/dist-packages (from matplotlib>=2.2.5->modisco) (0.11.0)\n",
            "Requirement already satisfied: pyparsing!=2.0.4,!=2.1.2,!=2.1.6,>=2.0.1 in /usr/local/lib/python3.7/dist-packages (from matplotlib>=2.2.5->modisco) (3.0.9)\n",
            "Requirement already satisfied: typing-extensions in /usr/local/lib/python3.7/dist-packages (from kiwisolver>=1.0.1->matplotlib>=2.2.5->modisco) (4.1.1)\n",
            "Requirement already satisfied: six>=1.5 in /usr/local/lib/python3.7/dist-packages (from python-dateutil>=2.1->matplotlib>=2.2.5->modisco) (1.15.0)\n",
            "Requirement already satisfied: threadpoolctl>=2.0.0 in /usr/local/lib/python3.7/dist-packages (from scikit-learn>=0.19->modisco) (3.1.0)\n",
            "Requirement already satisfied: scipy>=1.1.0 in /usr/local/lib/python3.7/dist-packages (from scikit-learn>=0.19->modisco) (1.4.1)\n",
            "Building wheels for collected packages: modisco\n",
            "  Building wheel for modisco (setup.py) ... \u001b[?25l\u001b[?25hdone\n",
            "  Created wheel for modisco: filename=modisco-0.5.16.0-py3-none-any.whl size=233643 sha256=ca31ef1540f94e9db6319d054b7ff37a11476449522881427c765a8599b81e56\n",
            "  Stored in directory: /root/.cache/pip/wheels/6c/e5/90/780b329bcb6a94a6dfcf3de9451d747ab0a6535ef73e63e6c6\n",
            "Successfully built modisco\n",
            "Installing collected packages: texttable, igraph, leidenalg, modisco\n",
            "Successfully installed igraph-0.9.11 leidenalg-0.8.10 modisco-0.5.16.0 texttable-1.6.4\n"
          ]
        }
      ]
    },
    {
      "cell_type": "code",
      "source": [
        "import h5py\n",
        "from collections import OrderedDict\n",
        "import numpy as np\n",
        "task_to_scores = OrderedDict()\n",
        "task_to_hyp_scores = OrderedDict()\n",
        "\n",
        "# here we ignore the attribution scores on flanking regions to make TF-MoDISco run faster\n",
        "gradient=gradients[:,:4,300:-300]\n",
        "print(gradient.shape)\n",
        "gradient=np.swapaxes(np.array(gradient),1,2)\n",
        "\n",
        "input=sequences[:,:4,300:-300]\n",
        "input=np.swapaxes(input,1,2)\n",
        "tasks=[\"task0\"]\n",
        "for task in tasks:\n",
        "    task_to_scores[task] = [gradient[i,:,:]*input[i,:,:] for i in range(gradient.shape[0])]\n",
        "    task_to_hyp_scores[task] = [gradient[i,:,:] for i in range(gradient.shape[0])]\n",
        "onehot_data =[input[i,:,:] for i in range(gradient.shape[0])]"
      ],
      "metadata": {
        "colab": {
          "base_uri": "https://localhost:8080/"
        },
        "id": "tCQ6HBIVU0EW",
        "outputId": "74fe6fbc-e45f-429c-e373-4995c2a99de7"
      },
      "execution_count": 12,
      "outputs": [
        {
          "output_type": "stream",
          "name": "stdout",
          "text": [
            "(100, 4, 1000)\n"
          ]
        }
      ]
    },
    {
      "cell_type": "code",
      "source": [
        "import numpy as np\n",
        "%matplotlib inline\n",
        "import modisco\n",
        "\n",
        "null_per_pos_scores = modisco.coordproducers.LaplaceNullDist(num_to_samp=5000)\n",
        "tfmodisco_results = modisco.tfmodisco_workflow.workflow.TfModiscoWorkflow(\n",
        "                    #Slight modifications from the default settings\n",
        "                    sliding_window_size=21,\n",
        "                    flank_size=5,\n",
        "                    target_seqlet_fdr=0.15,\n",
        "                    seqlets_to_patterns_factory=\n",
        "                     modisco.tfmodisco_workflow.seqlets_to_patterns.TfModiscoSeqletsToPatternsFactory(\n",
        "                        #Note: as of version 0.5.6.0, it's possible to use the results of a motif discovery\n",
        "                        # software like MEME to improve the TF-MoDISco clustering. To use the meme-based\n",
        "                        # initialization, you would specify the initclusterer_factory as shown in the\n",
        "                        # commented-out code below:\n",
        "                        #initclusterer_factory=modisco.clusterinit.memeinit.MemeInitClustererFactory(    \n",
        "                        #    meme_command=\"meme\", base_outdir=\"meme_out\",            \n",
        "                        #    max_num_seqlets_to_use=10000, nmotifs=10, n_jobs=1),\n",
        "                        trim_to_window_size=15,\n",
        "                        initial_flank_to_add=5,\n",
        "                        final_min_cluster_size=40)\n",
        "                )(\n",
        "                 task_names=[\"task0\"],\n",
        "                 contrib_scores=task_to_scores,\n",
        "                 hypothetical_contribs=task_to_hyp_scores,\n",
        "                 one_hot=onehot_data,\n",
        "                 null_per_pos_scores = null_per_pos_scores)"
      ],
      "metadata": {
        "colab": {
          "base_uri": "https://localhost:8080/",
          "height": 1000
        },
        "id": "ZtyRfJHYVDxS",
        "outputId": "2a1f05ac-6d8d-4330-c4cc-a76c660491a2"
      },
      "execution_count": 13,
      "outputs": [
        {
          "output_type": "stream",
          "name": "stdout",
          "text": [
            "MEMORY 5.169197056\n",
            "On task task0\n",
            "Computing windowed sums on original\n",
            "Generating null dist\n",
            "peak(mu)= 0.040307849451899525\n",
            "Computing threshold\n",
            "For increasing = True , the minimum IR precision was 0.38098117210289056 occurring at 4.76837158203125e-07 implying a frac_neg of 0.6154597484492274\n",
            "To be conservative, adjusted frac neg is 0.95\n",
            "For increasing = False , the minimum IR precision was 0.4007256235827665 occurring at -1.9073486328125e-06 implying a frac_neg of 0.6686847283184502\n",
            "To be conservative, adjusted frac neg is 0.95\n",
            "Thresholds from null dist were -0.9025040119886398  and  1.1612179279327393 with frac passing 0.058326530612244895\n",
            "Final raw thresholds are -0.9025040119886398  and  1.1612179279327393\n",
            "Final transformed thresholds are -0.9320204081632653  and  0.9547244897959184\n"
          ]
        },
        {
          "output_type": "display_data",
          "data": {
            "text/plain": [
              "<Figure size 432x288 with 2 Axes>"
            ],
            "image/png": "[encoded data removed]"
          },
          "metadata": {
            "needs_background": "light"
          }
        },
        {
          "output_type": "stream",
          "name": "stdout",
          "text": [
            "Got 480 coords\n",
            "After resolving overlaps, got 480 seqlets\n",
            "Across all tasks, the weakest transformed threshold used was: 0.9319204081632653\n",
            "MEMORY 5.176025088\n",
            "480 identified in total\n",
            "2 activity patterns with support >= 100 out of 2 possible patterns\n",
            "Metacluster sizes:  [333, 147]\n",
            "Idx to activities:  {0: '-1', 1: '1'}\n",
            "MEMORY 5.176143872\n",
            "On metacluster 1\n",
            "Metacluster size 147\n",
            "Relevant tasks:  ('task0',)\n",
            "Relevant signs:  (1,)\n",
            "TfModiscoSeqletsToPatternsFactory: seed=1234\n",
            "(Round 1) num seqlets: 147\n",
            "(Round 1) Computing coarse affmat\n",
            "MEMORY 5.17625856\n",
            "Beginning embedding computation\n",
            "MEMORY 5.17625856\n",
            "At the beginning of embedding call\n",
            "MEMORY 5.17625856\n",
            "before computing embeddings fwd\n",
            "MEMORY 5.17625856\n"
          ]
        },
        {
          "output_type": "stream",
          "name": "stderr",
          "text": [
            "[Parallel(n_jobs=4)]: Using backend LokyBackend with 4 concurrent workers.\n",
            "[Parallel(n_jobs=4)]: Done  42 tasks      | elapsed:   21.5s\n",
            "[Parallel(n_jobs=4)]: Done 147 out of 147 | elapsed:   53.1s finished\n",
            "[Parallel(n_jobs=4)]: Using backend LokyBackend with 4 concurrent workers.\n"
          ]
        },
        {
          "output_type": "stream",
          "name": "stdout",
          "text": [
            "after computing embeddings fwd\n",
            "MEMORY 5.181861888\n"
          ]
        },
        {
          "output_type": "stream",
          "name": "stderr",
          "text": [
            "[Parallel(n_jobs=4)]: Done  42 tasks      | elapsed:   11.6s\n"
          ]
        },
        {
          "output_type": "stream",
          "name": "stdout",
          "text": [
            "after computing embeddings rev\n",
            "MEMORY 5.187260416\n",
            "before computing sparse embeddings fwd\n",
            "MEMORY 5.187260416\n",
            "Constructing csr matrix...\n",
            "csr matrix made in 0.03087472915649414 s\n",
            "after computing sparse embeddings fwd\n",
            "MEMORY 5.187395584\n",
            "before computing sparse embeddings rev\n",
            "MEMORY 5.187395584\n",
            "Constructing csr matrix...\n",
            "csr matrix made in 0.021904706954956055 s\n",
            "after computing sparse embeddings rev\n",
            "MEMORY 5.187575808\n",
            "Finished embedding computation in 96.36 s\n",
            "MEMORY 5.187575808\n",
            "Starting affinity matrix computations\n",
            "MEMORY 5.187575808\n",
            "Batching in slices of size 147\n"
          ]
        },
        {
          "output_type": "stream",
          "name": "stderr",
          "text": [
            "[Parallel(n_jobs=4)]: Done 147 out of 147 | elapsed:   43.0s finished\n",
            "100%|██████████| 1/1 [00:01<00:00,  1.50s/it]"
          ]
        },
        {
          "output_type": "stream",
          "name": "stdout",
          "text": [
            "Finished affinity matrix computations in 1.53 s\n",
            "MEMORY 5.327028224\n",
            "(Round 1) Computed coarse affmat\n",
            "MEMORY 5.32676608\n",
            "(Round 1) Computing affinity matrix on nearest neighbors\n",
            "MEMORY 5.32676608\n",
            "Launching nearest neighbors affmat calculation job\n",
            "MEMORY 5.32676608\n"
          ]
        },
        {
          "output_type": "stream",
          "name": "stderr",
          "text": [
            "\n"
          ]
        },
        {
          "output_type": "stream",
          "name": "stdout",
          "text": [
            "Parallel runs completed\n",
            "MEMORY 5.326782464\n",
            "Job completed in: 1.28 s\n",
            "MEMORY 5.326782464\n",
            "Launching nearest neighbors affmat calculation job\n",
            "MEMORY 5.326782464\n",
            "Parallel runs completed\n",
            "MEMORY 5.326757888\n",
            "Job completed in: 1.19 s\n",
            "MEMORY 5.326757888\n",
            "(Round 1) Computed affinity matrix on nearest neighbors in 2.59 s\n",
            "MEMORY 5.326839808\n",
            "Filtered down to 113 of 147\n",
            "(Round 1) Retained 113 rows out of 147 after filtering\n",
            "MEMORY 5.327151104\n",
            "(Round 1) Computing density adapted affmat\n",
            "MEMORY 5.327151104\n",
            "Symmetrizing nearest neighbors\n",
            "Computing betas for density adaptation\n",
            "Computing normalizing denominators\n",
            "(Round 1) Computing clustering\n",
            "MEMORY 5.326848\n",
            "Beginning preprocessing + Leiden\n",
            "Affmat shape: 113\n"
          ]
        },
        {
          "output_type": "stream",
          "name": "stderr",
          "text": [
            "[Parallel(n_jobs=4)]: Using backend LokyBackend with 4 concurrent workers.\n",
            "[Parallel(n_jobs=4)]: Done  42 tasks      | elapsed:    6.5s\n"
          ]
        },
        {
          "output_type": "stream",
          "name": "stdout",
          "text": [
            "Quality: 0.07607749798933748\n",
            "Got 5 clusters after round 1\n",
            "Counts:\n",
            "{3: 15, 0: 53, 1: 24, 2: 20, 4: 1}\n",
            "MEMORY 5.32721664\n",
            "(Round 1) Aggregating seqlets in each cluster\n",
            "MEMORY 5.32721664\n",
            "Aggregating for cluster 0 with 53 seqlets\n",
            "MEMORY 5.32721664\n",
            "Skipped 1 seqlets that went over the sequence edge during flank expansion\n",
            "Skipped 1 seqlets that went over sequence edge during flank expansion\n",
            "Trimming eliminated 0 seqlets out of 51\n",
            "Aggregating for cluster 1 with 24 seqlets\n",
            "MEMORY 5.32721664\n"
          ]
        },
        {
          "output_type": "stream",
          "name": "stderr",
          "text": [
            "[Parallel(n_jobs=4)]: Done  50 out of  50 | elapsed:    7.5s finished\n"
          ]
        },
        {
          "output_type": "stream",
          "name": "stdout",
          "text": [
            "Trimming eliminated 0 seqlets out of 24\n",
            "Aggregating for cluster 2 with 20 seqlets\n",
            "MEMORY 5.32721664\n",
            "Skipped 1 seqlets that went over sequence edge during flank expansion\n",
            "Trimming eliminated 0 seqlets out of 19\n",
            "Aggregating for cluster 3 with 15 seqlets\n",
            "MEMORY 5.327220736\n",
            "Skipped 1 seqlets that went over sequence edge during flank expansion\n",
            "Trimming eliminated 0 seqlets out of 14\n",
            "Aggregating for cluster 4 with 1 seqlets\n",
            "MEMORY 5.327220736\n",
            "Trimming eliminated 0 seqlets out of 1\n",
            "(Round 2) num seqlets: 97\n",
            "(Round 2) Computing coarse affmat\n",
            "MEMORY 5.327220736\n",
            "Beginning embedding computation\n",
            "MEMORY 5.327220736\n",
            "At the beginning of embedding call\n",
            "MEMORY 5.327220736\n",
            "before computing embeddings fwd\n",
            "MEMORY 5.327220736\n"
          ]
        },
        {
          "output_type": "stream",
          "name": "stderr",
          "text": [
            "[Parallel(n_jobs=4)]: Using backend LokyBackend with 4 concurrent workers.\n",
            "[Parallel(n_jobs=4)]: Done  42 tasks      | elapsed:   14.6s\n",
            "[Parallel(n_jobs=4)]: Done  97 out of  97 | elapsed:   32.5s finished\n",
            "[Parallel(n_jobs=4)]: Using backend LokyBackend with 4 concurrent workers.\n"
          ]
        },
        {
          "output_type": "stream",
          "name": "stdout",
          "text": [
            "after computing embeddings fwd\n",
            "MEMORY 5.327220736\n"
          ]
        },
        {
          "output_type": "stream",
          "name": "stderr",
          "text": [
            "[Parallel(n_jobs=4)]: Done  42 tasks      | elapsed:   14.7s\n"
          ]
        },
        {
          "output_type": "stream",
          "name": "stdout",
          "text": [
            "after computing embeddings rev\n",
            "MEMORY 5.327220736\n",
            "before computing sparse embeddings fwd\n",
            "MEMORY 5.327220736\n",
            "Constructing csr matrix...\n",
            "csr matrix made in 0.014510393142700195 s\n",
            "after computing sparse embeddings fwd\n",
            "MEMORY 5.327220736\n",
            "before computing sparse embeddings rev\n",
            "MEMORY 5.327220736\n",
            "Constructing csr matrix...\n",
            "csr matrix made in 0.015184640884399414 s\n",
            "after computing sparse embeddings rev\n",
            "MEMORY 5.327220736\n",
            "Finished embedding computation in 65.41 s\n",
            "MEMORY 5.327220736\n",
            "Starting affinity matrix computations\n",
            "MEMORY 5.327220736\n",
            "Batching in slices of size 97\n"
          ]
        },
        {
          "output_type": "stream",
          "name": "stderr",
          "text": [
            "[Parallel(n_jobs=4)]: Done  97 out of  97 | elapsed:   32.7s finished\n",
            "100%|██████████| 1/1 [00:01<00:00,  1.44s/it]"
          ]
        },
        {
          "output_type": "stream",
          "name": "stdout",
          "text": [
            "Finished affinity matrix computations in 1.47 s\n",
            "MEMORY 5.327220736\n",
            "(Round 2) Computed coarse affmat\n",
            "MEMORY 5.327220736\n",
            "(Round 2) Computing affinity matrix on nearest neighbors\n",
            "MEMORY 5.327220736\n",
            "Launching nearest neighbors affmat calculation job\n",
            "MEMORY 5.327220736\n"
          ]
        },
        {
          "output_type": "stream",
          "name": "stderr",
          "text": [
            "\n"
          ]
        },
        {
          "output_type": "stream",
          "name": "stdout",
          "text": [
            "Parallel runs completed\n",
            "MEMORY 5.327212544\n",
            "Job completed in: 0.48 s\n",
            "MEMORY 5.327212544\n",
            "Launching nearest neighbors affmat calculation job\n",
            "MEMORY 5.327212544\n",
            "Parallel runs completed\n",
            "MEMORY 5.327187968\n",
            "Job completed in: 0.48 s\n",
            "MEMORY 5.327187968\n",
            "(Round 2) Computed affinity matrix on nearest neighbors in 1.05 s\n",
            "MEMORY 5.327220736\n",
            "Not applying filtering for rounds above first round\n",
            "MEMORY 5.327220736\n",
            "(Round 2) Computing density adapted affmat\n",
            "MEMORY 5.327220736\n",
            "Symmetrizing nearest neighbors\n",
            "Computing betas for density adaptation\n",
            "Computing normalizing denominators\n",
            "(Round 2) Computing clustering\n",
            "MEMORY 5.327224832\n",
            "Beginning preprocessing + Leiden\n",
            "Affmat shape: 97\n"
          ]
        },
        {
          "output_type": "stream",
          "name": "stderr",
          "text": [
            "[Parallel(n_jobs=4)]: Using backend LokyBackend with 4 concurrent workers.\n",
            "[Parallel(n_jobs=4)]: Done  42 tasks      | elapsed:    6.4s\n"
          ]
        },
        {
          "output_type": "stream",
          "name": "stdout",
          "text": [
            "Quality: 0.06552094293005266\n",
            "Got 6 clusters after round 2\n",
            "Counts:\n",
            "{0: 47, 1: 22, 2: 22, 3: 3, 4: 2, 5: 1}\n",
            "MEMORY 5.327224832\n",
            "(Round 2) Aggregating seqlets in each cluster\n",
            "MEMORY 5.327224832\n",
            "Aggregating for cluster 0 with 47 seqlets\n",
            "MEMORY 5.327224832\n",
            "Trimming eliminated 0 seqlets out of 47\n",
            "Aggregating for cluster 1 with 22 seqlets\n",
            "MEMORY 5.327224832\n",
            "Trimming eliminated 0 seqlets out of 22\n",
            "Aggregating for cluster 2 with 22 seqlets\n",
            "MEMORY 5.327224832\n"
          ]
        },
        {
          "output_type": "stream",
          "name": "stderr",
          "text": [
            "[Parallel(n_jobs=4)]: Done  50 out of  50 | elapsed:    7.4s finished\n"
          ]
        },
        {
          "output_type": "stream",
          "name": "stdout",
          "text": [
            "Trimming eliminated 0 seqlets out of 22\n",
            "Aggregating for cluster 3 with 3 seqlets\n",
            "MEMORY 5.327224832\n",
            "Trimming eliminated 0 seqlets out of 3\n",
            "Aggregating for cluster 4 with 2 seqlets\n",
            "MEMORY 5.327224832\n",
            "Trimming eliminated 0 seqlets out of 2\n",
            "Aggregating for cluster 5 with 1 seqlets\n",
            "MEMORY 5.327224832\n",
            "Trimming eliminated 0 seqlets out of 1\n",
            "Got 6 clusters\n",
            "Splitting into subclusters...\n",
            "MEMORY 5.327224832\n",
            "Inspecting pattern 0 for spurious merging\n",
            "Inspecting pattern 1 for spurious merging\n",
            "Inspecting pattern 2 for spurious merging\n",
            "Inspecting pattern 3 for spurious merging\n",
            "Inspecting pattern 4 for spurious merging\n",
            "Inspecting pattern 5 for spurious merging\n",
            "Merging on 6 clusters\n",
            "MEMORY 5.327224832\n",
            "On merging iteration 1\n",
            "Numbers for each pattern pre-subsample: [47, 22, 22, 3, 2, 1]\n",
            "Numbers after subsampling: [47, 22, 22, 3, 2, 1]\n",
            "Computing sims for pattern 0\n",
            "Computed sims for pattern 0 in 0.3975486755371094 s\n",
            "Computing sims for pattern 1\n",
            "Computed sims for pattern 1 in 0.2441728115081787 s\n",
            "Computing sims for pattern 2\n",
            "Computed sims for pattern 2 in 0.24178266525268555 s\n",
            "Computing sims for pattern 3\n",
            "Computed sims for pattern 3 in 0.05955672264099121 s\n",
            "Computing sims for pattern 4\n",
            "Computed sims for pattern 4 in 0.059163570404052734 s\n",
            "Computing sims for pattern 5\n",
            "Computed sims for pattern 5 in 0.04067659378051758 s\n",
            "Cluster sizes\n",
            "[47 22 22  3  2  1]\n",
            "Cross-contamination matrix:\n",
            "[[1.   0.5  0.02 0.19 0.11 0.01]\n",
            " [0.71 1.   0.06 0.26 0.49 0.02]\n",
            " [0.53 0.71 1.   0.77 0.21 0.44]\n",
            " [0.45 0.29 0.01 1.   0.   0.  ]\n",
            " [0.51 0.55 0.14 0.5  1.   1.  ]\n",
            " [0.   0.   0.   0.   0.   1.  ]]\n",
            "Pattern-to-pattern sim matrix:\n",
            "[[1.   0.8  0.48 0.67 0.37 0.26]\n",
            " [0.8  1.   0.62 0.64 0.46 0.25]\n",
            " [0.48 0.62 1.   0.47 0.2  0.26]\n",
            " [0.67 0.64 0.47 1.   0.18 0.15]\n",
            " [0.37 0.46 0.2  0.18 1.   0.17]\n",
            " [0.26 0.25 0.26 0.15 0.17 1.  ]]\n",
            "Got 6 patterns after merging\n",
            "MEMORY 5.327224832\n",
            "Performing filtering\n",
            "MEMORY 5.327224832\n",
            "Got 1 patterns after filtering\n",
            "MEMORY 5.327224832\n",
            "Total time taken is 186.21s\n",
            "MEMORY 5.327224832\n",
            "Applying subclustering to the final motifs\n",
            "On pattern 0\n",
            "[t-SNE] Computing 46 nearest neighbors...\n",
            "[t-SNE] Indexed 47 samples in 0.003s...\n",
            "[t-SNE] Computed neighbors for 47 samples in 0.001s...\n",
            "[t-SNE] Computed conditional probabilities for sample 47 / 47\n",
            "[t-SNE] Mean sigma: 1125899906842624.000000\n",
            "[t-SNE] Computed conditional probabilities in 0.006s\n",
            "[t-SNE] Iteration 50: error = 44.6532669, gradient norm = 0.6214333 (50 iterations in 0.016s)\n",
            "[t-SNE] Iteration 100: error = 42.8034859, gradient norm = 0.6475692 (50 iterations in 0.010s)\n",
            "[t-SNE] Iteration 150: error = 42.5904655, gradient norm = 0.3843959 (50 iterations in 0.010s)\n",
            "[t-SNE] Iteration 200: error = 48.3142738, gradient norm = 0.3988540 (50 iterations in 0.013s)\n",
            "[t-SNE] Iteration 250: error = 41.6153641, gradient norm = 0.5752616 (50 iterations in 0.010s)\n",
            "[t-SNE] KL divergence after 250 iterations with early exaggeration: 41.615364\n",
            "[t-SNE] Iteration 300: error = 0.7814292, gradient norm = 0.0012503 (50 iterations in 0.011s)\n",
            "[t-SNE] Iteration 350: error = 0.6733648, gradient norm = 0.0003115 (50 iterations in 0.010s)\n",
            "[t-SNE] Iteration 400: error = 0.6220481, gradient norm = 0.0003183 (50 iterations in 0.010s)\n",
            "[t-SNE] Iteration 450: error = 0.6027772, gradient norm = 0.0000687 (50 iterations in 0.010s)\n",
            "[t-SNE] Iteration 500: error = 0.6015900, gradient norm = 0.0000426 (50 iterations in 0.012s)\n",
            "[t-SNE] Iteration 550: error = 0.6015277, gradient norm = 0.0000381 (50 iterations in 0.011s)\n",
            "[t-SNE] Iteration 600: error = 0.6011257, gradient norm = 0.0000181 (50 iterations in 0.013s)\n"
          ]
        },
        {
          "output_type": "stream",
          "name": "stderr",
          "text": [
            "[Parallel(n_jobs=4)]: Using backend LokyBackend with 4 concurrent workers.\n",
            "[Parallel(n_jobs=4)]: Done  47 out of  47 | elapsed:    0.0s finished\n",
            "/usr/local/lib/python3.7/dist-packages/sklearn/manifold/_t_sne.py:783: FutureWarning: The default initialization in TSNE will change from 'random' to 'pca' in 1.2.\n",
            "  FutureWarning,\n",
            "/usr/local/lib/python3.7/dist-packages/sklearn/manifold/_t_sne.py:793: FutureWarning: The default learning rate in TSNE will change from 200.0 to 'auto' in 1.2.\n",
            "  FutureWarning,\n",
            "/usr/local/lib/python3.7/dist-packages/sklearn/manifold/_t_sne.py:827: FutureWarning: 'square_distances' has been introduced in 0.24 to help phase out legacy squaring behavior. The 'legacy' setting will be removed in 1.1 (renaming of 0.26), and the default setting will be changed to True. In 1.3, 'square_distances' will be removed altogether, and distances will be squared by default. Set 'square_distances'=True to silence this warning.\n",
            "  FutureWarning,\n",
            "/usr/local/lib/python3.7/dist-packages/sklearn/neighbors/_base.py:200: EfficiencyWarning: Precomputed sparse input was not sorted by data.\n",
            "  \"Precomputed sparse input was not sorted by data.\", EfficiencyWarning\n"
          ]
        },
        {
          "output_type": "stream",
          "name": "stdout",
          "text": [
            "[t-SNE] Iteration 650: error = 0.6009877, gradient norm = 0.0000139 (50 iterations in 0.017s)\n",
            "[t-SNE] Iteration 700: error = 0.6012578, gradient norm = 0.0000115 (50 iterations in 0.011s)\n",
            "[t-SNE] Iteration 750: error = 0.6011660, gradient norm = 0.0000117 (50 iterations in 0.009s)\n",
            "[t-SNE] Iteration 800: error = 0.6010613, gradient norm = 0.0000129 (50 iterations in 0.010s)\n",
            "[t-SNE] Iteration 850: error = 0.6008365, gradient norm = 0.0000143 (50 iterations in 0.013s)\n",
            "[t-SNE] Iteration 900: error = 0.6009588, gradient norm = 0.0000163 (50 iterations in 0.011s)\n",
            "[t-SNE] Iteration 950: error = 0.6009347, gradient norm = 0.0000161 (50 iterations in 0.012s)\n",
            "[t-SNE] Iteration 1000: error = 0.6008067, gradient norm = 0.0000182 (50 iterations in 0.009s)\n",
            "[t-SNE] KL divergence after 1000 iterations: 0.600807\n",
            "[t-SNE] Computed conditional probabilities for sample 47 / 47\n",
            "[t-SNE] Mean sigma: 1125899906842624.000000\n",
            "Beginning preprocessing + Leiden\n",
            "Affmat shape: 47\n"
          ]
        },
        {
          "output_type": "stream",
          "name": "stderr",
          "text": [
            "[Parallel(n_jobs=4)]: Using backend LokyBackend with 4 concurrent workers.\n",
            "[Parallel(n_jobs=4)]: Done  42 tasks      | elapsed:    6.2s\n"
          ]
        },
        {
          "output_type": "stream",
          "name": "stdout",
          "text": [
            "Quality: 5.684341886081034e-14\n",
            "Got subclusters: Counter({0: 47})\n",
            "On metacluster 0\n",
            "Metacluster size 333\n",
            "Relevant tasks:  ('task0',)\n",
            "Relevant signs:  (-1,)\n",
            "TfModiscoSeqletsToPatternsFactory: seed=1234\n",
            "(Round 1) num seqlets: 333\n",
            "(Round 1) Computing coarse affmat\n",
            "MEMORY 5.327314944\n",
            "Beginning embedding computation\n",
            "MEMORY 5.327314944\n"
          ]
        },
        {
          "output_type": "stream",
          "name": "stderr",
          "text": [
            "[Parallel(n_jobs=4)]: Done  50 out of  50 | elapsed:    7.1s finished\n",
            "[Parallel(n_jobs=4)]: Using backend LokyBackend with 4 concurrent workers.\n"
          ]
        },
        {
          "output_type": "stream",
          "name": "stdout",
          "text": [
            "At the beginning of embedding call\n",
            "MEMORY 5.327314944\n",
            "before computing embeddings fwd\n",
            "MEMORY 5.327314944\n"
          ]
        },
        {
          "output_type": "stream",
          "name": "stderr",
          "text": [
            "[Parallel(n_jobs=4)]: Done  42 tasks      | elapsed:   11.8s\n",
            "[Parallel(n_jobs=4)]: Done 192 tasks      | elapsed:   55.3s\n",
            "[Parallel(n_jobs=4)]: Done 333 out of 333 | elapsed:  1.6min finished\n",
            "[Parallel(n_jobs=4)]: Using backend LokyBackend with 4 concurrent workers.\n"
          ]
        },
        {
          "output_type": "stream",
          "name": "stdout",
          "text": [
            "after computing embeddings fwd\n",
            "MEMORY 5.330497536\n"
          ]
        },
        {
          "output_type": "stream",
          "name": "stderr",
          "text": [
            "[Parallel(n_jobs=4)]: Done  42 tasks      | elapsed:   11.9s\n",
            "[Parallel(n_jobs=4)]: Done 192 tasks      | elapsed:   54.7s\n",
            "[Parallel(n_jobs=4)]: Done 333 out of 333 | elapsed:  1.6min finished\n"
          ]
        },
        {
          "output_type": "stream",
          "name": "stdout",
          "text": [
            "after computing embeddings rev\n",
            "MEMORY 5.341241344\n",
            "before computing sparse embeddings fwd\n",
            "MEMORY 5.341241344\n",
            "Constructing csr matrix...\n",
            "csr matrix made in 0.048323869705200195 s\n",
            "after computing sparse embeddings fwd\n",
            "MEMORY 5.3413888\n",
            "before computing sparse embeddings rev\n",
            "MEMORY 5.3413888\n",
            "Constructing csr matrix...\n",
            "csr matrix made in 0.054337263107299805 s\n",
            "after computing sparse embeddings rev\n",
            "MEMORY 5.3413888\n",
            "Finished embedding computation in 193.46 s\n",
            "MEMORY 5.340864512\n",
            "Starting affinity matrix computations\n",
            "MEMORY 5.340864512\n",
            "Batching in slices of size 333\n"
          ]
        },
        {
          "output_type": "stream",
          "name": "stderr",
          "text": [
            "100%|██████████| 1/1 [00:01<00:00,  1.33s/it]"
          ]
        },
        {
          "output_type": "stream",
          "name": "stdout",
          "text": [
            "Finished affinity matrix computations in 1.36 s\n",
            "MEMORY 5.340864512\n",
            "(Round 1) Computed coarse affmat\n",
            "MEMORY 5.340864512\n",
            "(Round 1) Computing affinity matrix on nearest neighbors\n",
            "MEMORY 5.340864512\n",
            "Launching nearest neighbors affmat calculation job\n",
            "MEMORY 5.340864512\n"
          ]
        },
        {
          "output_type": "stream",
          "name": "stderr",
          "text": [
            "\n"
          ]
        },
        {
          "output_type": "stream",
          "name": "stdout",
          "text": [
            "Parallel runs completed\n",
            "MEMORY 5.340848128\n",
            "Job completed in: 5.92 s\n",
            "MEMORY 5.340848128\n",
            "Launching nearest neighbors affmat calculation job\n",
            "MEMORY 5.340848128\n",
            "Parallel runs completed\n",
            "MEMORY 5.340827648\n",
            "Job completed in: 5.91 s\n",
            "MEMORY 5.340827648\n",
            "(Round 1) Computed affinity matrix on nearest neighbors in 11.97 s\n",
            "MEMORY 5.340827648\n",
            "Filtered down to 220 of 333\n",
            "(Round 1) Retained 220 rows out of 333 after filtering\n",
            "MEMORY 5.3408768\n",
            "(Round 1) Computing density adapted affmat\n",
            "MEMORY 5.3408768\n",
            "Symmetrizing nearest neighbors\n",
            "Computing betas for density adaptation\n",
            "Computing normalizing denominators\n",
            "(Round 1) Computing clustering\n",
            "MEMORY 5.340626944\n",
            "Beginning preprocessing + Leiden\n",
            "Affmat shape: 220\n"
          ]
        },
        {
          "output_type": "stream",
          "name": "stderr",
          "text": [
            "[Parallel(n_jobs=4)]: Using backend LokyBackend with 4 concurrent workers.\n",
            "[Parallel(n_jobs=4)]: Done  42 tasks      | elapsed:    8.2s\n"
          ]
        },
        {
          "output_type": "stream",
          "name": "stdout",
          "text": [
            "Quality: 0.039468537162558735\n",
            "Quality: 0.03948465402451929\n",
            "Quality: 0.03951052353687566\n",
            "Quality: 0.03957540668107311\n",
            "Got 7 clusters after round 1\n",
            "Counts:\n",
            "{0: 76, 1: 66, 2: 65, 6: 1, 5: 2, 4: 2, 3: 8}\n",
            "MEMORY 5.340626944\n",
            "(Round 1) Aggregating seqlets in each cluster\n",
            "MEMORY 5.340626944\n",
            "Aggregating for cluster 0 with 76 seqlets\n",
            "MEMORY 5.340626944\n"
          ]
        },
        {
          "output_type": "stream",
          "name": "stderr",
          "text": [
            "[Parallel(n_jobs=4)]: Done  50 out of  50 | elapsed:    9.3s finished\n"
          ]
        },
        {
          "output_type": "stream",
          "name": "stdout",
          "text": [
            "Removed 1 duplicate seqlets\n",
            "Skipped 1 seqlets that went over sequence edge during flank expansion\n",
            "Skipped 2 due to duplicates\n",
            "Trimming eliminated 0 seqlets out of 72\n",
            "Aggregating for cluster 1 with 66 seqlets\n",
            "MEMORY 5.340626944\n",
            "Skipped 2 seqlets that went over sequence edge during flank expansion\n",
            "Skipped 2 due to duplicates\n",
            "Trimming eliminated 0 seqlets out of 62\n",
            "Aggregating for cluster 2 with 65 seqlets\n",
            "MEMORY 5.340626944\n",
            "Skipped 1 seqlets that went over the sequence edge during flank expansion\n",
            "Skipped 1 due to duplicates\n",
            "Trimming eliminated 0 seqlets out of 63\n",
            "Aggregating for cluster 3 with 8 seqlets\n",
            "MEMORY 5.340626944\n",
            "Skipped 1 due to duplicates\n",
            "Trimming eliminated 0 seqlets out of 7\n",
            "Aggregating for cluster 4 with 2 seqlets\n",
            "MEMORY 5.340626944\n",
            "Trimming eliminated 0 seqlets out of 2\n",
            "Aggregating for cluster 5 with 2 seqlets\n",
            "MEMORY 5.340626944\n",
            "Trimming eliminated 0 seqlets out of 2\n",
            "Aggregating for cluster 6 with 1 seqlets\n",
            "MEMORY 5.340626944\n",
            "Trimming eliminated 0 seqlets out of 1\n",
            "(Round 2) num seqlets: 209\n",
            "(Round 2) Computing coarse affmat\n",
            "MEMORY 5.340626944\n",
            "Beginning embedding computation\n",
            "MEMORY 5.340626944\n",
            "At the beginning of embedding call\n",
            "MEMORY 5.340626944\n",
            "before computing embeddings fwd\n",
            "MEMORY 5.340626944\n"
          ]
        },
        {
          "output_type": "stream",
          "name": "stderr",
          "text": [
            "[Parallel(n_jobs=4)]: Using backend LokyBackend with 4 concurrent workers.\n",
            "[Parallel(n_jobs=4)]: Done  42 tasks      | elapsed:   15.0s\n",
            "[Parallel(n_jobs=4)]: Done 192 tasks      | elapsed:  1.1min\n",
            "[Parallel(n_jobs=4)]: Done 209 out of 209 | elapsed:  1.2min finished\n",
            "[Parallel(n_jobs=4)]: Using backend LokyBackend with 4 concurrent workers.\n"
          ]
        },
        {
          "output_type": "stream",
          "name": "stdout",
          "text": [
            "after computing embeddings fwd\n",
            "MEMORY 5.340626944\n"
          ]
        },
        {
          "output_type": "stream",
          "name": "stderr",
          "text": [
            "[Parallel(n_jobs=4)]: Done  42 tasks      | elapsed:   14.5s\n",
            "[Parallel(n_jobs=4)]: Done 192 tasks      | elapsed:  1.1min\n"
          ]
        },
        {
          "output_type": "stream",
          "name": "stdout",
          "text": [
            "after computing embeddings rev\n",
            "MEMORY 5.340626944\n",
            "before computing sparse embeddings fwd\n",
            "MEMORY 5.340626944\n",
            "Constructing csr matrix...\n",
            "csr matrix made in 0.029195070266723633 s\n",
            "after computing sparse embeddings fwd\n",
            "MEMORY 5.340626944\n",
            "before computing sparse embeddings rev\n",
            "MEMORY 5.340626944\n",
            "Constructing csr matrix...\n",
            "csr matrix made in 0.030041217803955078 s\n",
            "after computing sparse embeddings rev\n",
            "MEMORY 5.340626944\n",
            "Finished embedding computation in 142.49 s\n",
            "MEMORY 5.340626944\n",
            "Starting affinity matrix computations\n",
            "MEMORY 5.340626944\n",
            "Batching in slices of size 209\n"
          ]
        },
        {
          "output_type": "stream",
          "name": "stderr",
          "text": [
            "[Parallel(n_jobs=4)]: Done 209 out of 209 | elapsed:  1.2min finished\n",
            "100%|██████████| 1/1 [00:01<00:00,  1.33s/it]"
          ]
        },
        {
          "output_type": "stream",
          "name": "stdout",
          "text": [
            "Finished affinity matrix computations in 1.36 s\n",
            "MEMORY 5.340626944\n",
            "(Round 2) Computed coarse affmat\n",
            "MEMORY 5.340626944\n",
            "(Round 2) Computing affinity matrix on nearest neighbors\n",
            "MEMORY 5.340626944\n",
            "Launching nearest neighbors affmat calculation job\n",
            "MEMORY 5.340626944\n"
          ]
        },
        {
          "output_type": "stream",
          "name": "stderr",
          "text": [
            "\n"
          ]
        },
        {
          "output_type": "stream",
          "name": "stdout",
          "text": [
            "Parallel runs completed\n",
            "MEMORY 5.340614656\n",
            "Job completed in: 1.49 s\n",
            "MEMORY 5.340614656\n",
            "Launching nearest neighbors affmat calculation job\n",
            "MEMORY 5.340614656\n",
            "Parallel runs completed\n",
            "MEMORY 5.34059008\n",
            "Job completed in: 1.49 s\n",
            "MEMORY 5.34059008\n",
            "(Round 2) Computed affinity matrix on nearest neighbors in 3.13 s\n",
            "MEMORY 5.34059008\n",
            "Not applying filtering for rounds above first round\n",
            "MEMORY 5.34059008\n",
            "(Round 2) Computing density adapted affmat\n",
            "MEMORY 5.34059008\n",
            "Symmetrizing nearest neighbors\n",
            "Computing betas for density adaptation\n",
            "Computing normalizing denominators\n",
            "(Round 2) Computing clustering\n",
            "MEMORY 5.34059008\n",
            "Beginning preprocessing + Leiden\n",
            "Affmat shape: 209\n"
          ]
        },
        {
          "output_type": "stream",
          "name": "stderr",
          "text": [
            "[Parallel(n_jobs=4)]: Using backend LokyBackend with 4 concurrent workers.\n",
            "[Parallel(n_jobs=4)]: Done  42 tasks      | elapsed:    7.9s\n"
          ]
        },
        {
          "output_type": "stream",
          "name": "stdout",
          "text": [
            "Quality: 0.04572394034417836\n",
            "Quality: 0.045726893008009216\n",
            "Quality: 0.045729113108554646\n",
            "Got 5 clusters after round 2\n",
            "Counts:\n",
            "{3: 33, 0: 73, 2: 43, 4: 5, 1: 55}\n",
            "MEMORY 5.34059008\n",
            "(Round 2) Aggregating seqlets in each cluster\n",
            "MEMORY 5.34059008\n",
            "Aggregating for cluster 0 with 73 seqlets\n",
            "MEMORY 5.34059008\n"
          ]
        },
        {
          "output_type": "stream",
          "name": "stderr",
          "text": [
            "[Parallel(n_jobs=4)]: Done  50 out of  50 | elapsed:    9.0s finished\n"
          ]
        },
        {
          "output_type": "stream",
          "name": "stdout",
          "text": [
            "Skipped 5 due to duplicates\n",
            "Trimming eliminated 0 seqlets out of 68\n",
            "Aggregating for cluster 1 with 55 seqlets\n",
            "MEMORY 5.34059008\n",
            "Skipped 4 due to duplicates\n",
            "Trimming eliminated 0 seqlets out of 51\n",
            "Aggregating for cluster 2 with 43 seqlets\n",
            "MEMORY 5.34059008\n",
            "Skipped 4 due to duplicates\n",
            "Trimming eliminated 0 seqlets out of 39\n",
            "Aggregating for cluster 3 with 33 seqlets\n",
            "MEMORY 5.34059008\n",
            "Skipped 1 due to duplicates\n",
            "Trimming eliminated 0 seqlets out of 32\n",
            "Dropping cluster 3 with 32 seqlets due to sign disagreement\n",
            "Aggregating for cluster 4 with 5 seqlets\n",
            "MEMORY 5.34059008\n",
            "Skipped 1 due to duplicates\n",
            "Trimming eliminated 0 seqlets out of 4\n",
            "Got 4 clusters\n",
            "Splitting into subclusters...\n",
            "MEMORY 5.34059008\n",
            "Inspecting pattern 0 for spurious merging\n",
            "[t-SNE] Computed conditional probabilities for sample 68 / 68\n",
            "[t-SNE] Mean sigma: 1.008817\n",
            "Beginning preprocessing + Leiden\n",
            "Affmat shape: 68\n"
          ]
        },
        {
          "output_type": "stream",
          "name": "stderr",
          "text": [
            "[Parallel(n_jobs=4)]: Using backend LokyBackend with 4 concurrent workers.\n",
            "[Parallel(n_jobs=4)]: Done  68 out of  68 | elapsed:    0.1s finished\n",
            "[Parallel(n_jobs=4)]: Using backend LokyBackend with 4 concurrent workers.\n",
            "[Parallel(n_jobs=4)]: Done  42 tasks      | elapsed:    6.1s\n"
          ]
        },
        {
          "output_type": "stream",
          "name": "stdout",
          "text": [
            "Quality: 0.08503216639454947\n",
            "Quality: 0.08552484729284161\n",
            "Quality: 0.08577873793174468\n",
            "Got subclusters: Counter({0: 21, 1: 17, 3: 15, 2: 15})\n",
            "On merging iteration 1\n"
          ]
        },
        {
          "output_type": "stream",
          "name": "stderr",
          "text": [
            "[Parallel(n_jobs=4)]: Done  50 out of  50 | elapsed:    7.1s finished\n"
          ]
        },
        {
          "output_type": "stream",
          "name": "stdout",
          "text": [
            "Numbers for each pattern pre-subsample: [21, 17, 15, 15]\n",
            "Numbers after subsampling: [21, 17, 15, 15]\n",
            "Computing sims for pattern 0\n",
            "Computed sims for pattern 0 in 0.13805174827575684 s\n",
            "Computing sims for pattern 1\n",
            "Computed sims for pattern 1 in 0.11077046394348145 s\n",
            "Computing sims for pattern 2\n",
            "Computed sims for pattern 2 in 0.11646509170532227 s\n",
            "Computing sims for pattern 3\n",
            "Computed sims for pattern 3 in 0.12748456001281738 s\n",
            "Cluster sizes\n",
            "[21 17 15 15]\n",
            "Cross-contamination matrix:\n",
            "[[1.   0.52 0.43 0.55]\n",
            " [0.68 1.   0.46 0.53]\n",
            " [0.64 0.53 1.   0.64]\n",
            " [0.66 0.46 0.52 1.  ]]\n",
            "Pattern-to-pattern sim matrix:\n",
            "[[1.   0.32 0.42 0.49]\n",
            " [0.32 1.   0.28 0.35]\n",
            " [0.42 0.28 1.   0.4 ]\n",
            " [0.49 0.35 0.4  1.  ]]\n",
            "Inspecting pattern 1 for spurious merging\n",
            "[t-SNE] Computed conditional probabilities for sample 51 / 51\n",
            "[t-SNE] Mean sigma: 34.451547\n",
            "Beginning preprocessing + Leiden\n",
            "Affmat shape: 51\n"
          ]
        },
        {
          "output_type": "stream",
          "name": "stderr",
          "text": [
            "[Parallel(n_jobs=4)]: Using backend LokyBackend with 4 concurrent workers.\n",
            "[Parallel(n_jobs=4)]: Done  51 out of  51 | elapsed:    0.0s finished\n",
            "[Parallel(n_jobs=4)]: Using backend LokyBackend with 4 concurrent workers.\n",
            "[Parallel(n_jobs=4)]: Done  42 tasks      | elapsed:    6.1s\n"
          ]
        },
        {
          "output_type": "stream",
          "name": "stdout",
          "text": [
            "Quality: 8.43769498715119e-15\n",
            "Got subclusters: Counter({0: 51})\n",
            "On merging iteration 1\n",
            "Numbers for each pattern pre-subsample: [51]\n",
            "Numbers after subsampling: [51]\n",
            "Computing sims for pattern 0\n",
            "Computed sims for pattern 0 in 3.266334533691406e-05 s\n",
            "Cluster sizes\n",
            "[51]\n",
            "Cross-contamination matrix:\n",
            "[[1.]]\n",
            "Pattern-to-pattern sim matrix:\n",
            "[[1.]]\n",
            "Inspecting pattern 2 for spurious merging\n",
            "Inspecting pattern 3 for spurious merging\n",
            "Merging on 7 clusters\n",
            "MEMORY 5.34059008\n",
            "On merging iteration 1\n"
          ]
        },
        {
          "output_type": "stream",
          "name": "stderr",
          "text": [
            "[Parallel(n_jobs=4)]: Done  50 out of  50 | elapsed:    7.0s finished\n"
          ]
        },
        {
          "output_type": "stream",
          "name": "stdout",
          "text": [
            "Numbers for each pattern pre-subsample: [21, 17, 15, 15, 51, 39, 4]\n",
            "Numbers after subsampling: [21, 17, 15, 15, 51, 39, 4]\n",
            "Computing sims for pattern 0\n",
            "Computed sims for pattern 0 in 0.30164337158203125 s\n",
            "Computing sims for pattern 1\n",
            "Computed sims for pattern 1 in 0.22868824005126953 s\n",
            "Computing sims for pattern 2\n",
            "Computed sims for pattern 2 in 0.23799371719360352 s\n",
            "Computing sims for pattern 3\n",
            "Computed sims for pattern 3 in 0.24180078506469727 s\n",
            "Computing sims for pattern 4\n",
            "Computed sims for pattern 4 in 0.5468153953552246 s\n",
            "Computing sims for pattern 5\n",
            "Computed sims for pattern 5 in 0.4931151866912842 s\n",
            "Computing sims for pattern 6\n",
            "Computed sims for pattern 6 in 0.08882379531860352 s\n",
            "Cluster sizes\n",
            "[21 17 15 15 51 39  4]\n",
            "Cross-contamination matrix:\n",
            "[[1.   0.52 0.43 0.55 0.25 0.25 0.46]\n",
            " [0.68 1.   0.46 0.53 0.37 0.3  0.44]\n",
            " [0.64 0.53 1.   0.64 0.49 0.36 0.51]\n",
            " [0.66 0.46 0.52 1.   0.22 0.29 0.2 ]\n",
            " [0.69 0.67 0.74 0.58 1.   0.55 0.54]\n",
            " [0.43 0.34 0.37 0.44 0.35 1.   0.55]\n",
            " [0.58 0.49 0.46 0.29 0.45 0.49 1.  ]]\n",
            "Pattern-to-pattern sim matrix:\n",
            "[[1.   0.32 0.42 0.49 0.3  0.39 0.29]\n",
            " [0.32 1.   0.28 0.35 0.14 0.25 0.27]\n",
            " [0.42 0.28 1.   0.4  0.27 0.38 0.19]\n",
            " [0.49 0.35 0.4  1.   0.08 0.29 0.14]\n",
            " [0.3  0.14 0.27 0.08 1.   0.36 0.22]\n",
            " [0.39 0.25 0.38 0.29 0.36 1.   0.26]\n",
            " [0.29 0.27 0.19 0.14 0.22 0.26 1.  ]]\n",
            "Got 7 patterns after merging\n",
            "MEMORY 5.34065152\n",
            "Performing filtering\n",
            "MEMORY 5.34065152\n",
            "Got 1 patterns after filtering\n",
            "MEMORY 5.34065152\n",
            "Total time taken is 392.85s\n",
            "MEMORY 5.34065152\n",
            "Applying subclustering to the final motifs\n",
            "On pattern 0\n",
            "[t-SNE] Computing 50 nearest neighbors...\n",
            "[t-SNE] Indexed 51 samples in 0.002s...\n",
            "[t-SNE] Computed neighbors for 51 samples in 0.001s...\n",
            "[t-SNE] Computed conditional probabilities for sample 51 / 51\n",
            "[t-SNE] Mean sigma: 34.451547\n",
            "[t-SNE] Computed conditional probabilities in 0.003s\n",
            "[t-SNE] Iteration 50: error = 43.0863609, gradient norm = 0.5725129 (50 iterations in 0.015s)\n",
            "[t-SNE] Iteration 100: error = 43.8505821, gradient norm = 0.3681096 (50 iterations in 0.014s)\n",
            "[t-SNE] Iteration 150: error = 47.9467964, gradient norm = 0.4550321 (50 iterations in 0.011s)\n",
            "[t-SNE] Iteration 200: error = 41.3201332, gradient norm = 0.5078643 (50 iterations in 0.012s)\n",
            "[t-SNE] Iteration 250: error = 44.5008926, gradient norm = 0.4973384 (50 iterations in 0.011s)\n",
            "[t-SNE] KL divergence after 250 iterations with early exaggeration: 44.500893\n",
            "[t-SNE] Iteration 300: error = 0.6263442, gradient norm = 0.0007239 (50 iterations in 0.010s)\n",
            "[t-SNE] Iteration 350: error = 0.6203813, gradient norm = 0.0001387 (50 iterations in 0.010s)\n",
            "[t-SNE] Iteration 400: error = 0.6172218, gradient norm = 0.0000806 (50 iterations in 0.011s)\n",
            "[t-SNE] Iteration 450: error = 0.6167809, gradient norm = 0.0000658 (50 iterations in 0.013s)\n",
            "[t-SNE] Iteration 500: error = 0.6157506, gradient norm = 0.0001215 (50 iterations in 0.011s)\n",
            "[t-SNE] Iteration 550: error = 0.6102311, gradient norm = 0.0005107 (50 iterations in 0.010s)\n",
            "[t-SNE] Iteration 600: error = 0.9175454, gradient norm = 0.0018101 (50 iterations in 0.014s)\n"
          ]
        },
        {
          "output_type": "stream",
          "name": "stderr",
          "text": [
            "[Parallel(n_jobs=4)]: Using backend LokyBackend with 4 concurrent workers.\n",
            "[Parallel(n_jobs=4)]: Done  51 out of  51 | elapsed:    0.0s finished\n",
            "/usr/local/lib/python3.7/dist-packages/sklearn/manifold/_t_sne.py:783: FutureWarning: The default initialization in TSNE will change from 'random' to 'pca' in 1.2.\n",
            "  FutureWarning,\n",
            "/usr/local/lib/python3.7/dist-packages/sklearn/manifold/_t_sne.py:793: FutureWarning: The default learning rate in TSNE will change from 200.0 to 'auto' in 1.2.\n",
            "  FutureWarning,\n",
            "/usr/local/lib/python3.7/dist-packages/sklearn/manifold/_t_sne.py:827: FutureWarning: 'square_distances' has been introduced in 0.24 to help phase out legacy squaring behavior. The 'legacy' setting will be removed in 1.1 (renaming of 0.26), and the default setting will be changed to True. In 1.3, 'square_distances' will be removed altogether, and distances will be squared by default. Set 'square_distances'=True to silence this warning.\n",
            "  FutureWarning,\n",
            "/usr/local/lib/python3.7/dist-packages/sklearn/neighbors/_base.py:200: EfficiencyWarning: Precomputed sparse input was not sorted by data.\n",
            "  \"Precomputed sparse input was not sorted by data.\", EfficiencyWarning\n"
          ]
        },
        {
          "output_type": "stream",
          "name": "stdout",
          "text": [
            "[t-SNE] Iteration 650: error = 0.7822303, gradient norm = 0.0005536 (50 iterations in 0.018s)\n",
            "[t-SNE] Iteration 700: error = 0.6817135, gradient norm = 0.0003422 (50 iterations in 0.018s)\n",
            "[t-SNE] Iteration 750: error = 0.6288907, gradient norm = 0.0001322 (50 iterations in 0.011s)\n",
            "[t-SNE] Iteration 800: error = 0.6228719, gradient norm = 0.0000632 (50 iterations in 0.010s)\n",
            "[t-SNE] Iteration 850: error = 0.6209500, gradient norm = 0.0000452 (50 iterations in 0.010s)\n",
            "[t-SNE] Iteration 900: error = 0.6191314, gradient norm = 0.0000393 (50 iterations in 0.013s)\n",
            "[t-SNE] Iteration 900: did not make any progress during the last 300 episodes. Finished.\n",
            "[t-SNE] KL divergence after 900 iterations: 0.619131\n",
            "[t-SNE] Computed conditional probabilities for sample 51 / 51\n",
            "[t-SNE] Mean sigma: 34.451547\n",
            "Beginning preprocessing + Leiden\n",
            "Affmat shape: 51\n"
          ]
        },
        {
          "output_type": "stream",
          "name": "stderr",
          "text": [
            "[Parallel(n_jobs=4)]: Using backend LokyBackend with 4 concurrent workers.\n",
            "[Parallel(n_jobs=4)]: Done  42 tasks      | elapsed:    6.3s\n"
          ]
        },
        {
          "output_type": "stream",
          "name": "stdout",
          "text": [
            "Quality: 8.43769498715119e-15\n",
            "Got subclusters: Counter({0: 51})\n"
          ]
        },
        {
          "output_type": "stream",
          "name": "stderr",
          "text": [
            "[Parallel(n_jobs=4)]: Done  50 out of  50 | elapsed:    7.1s finished\n"
          ]
        }
      ]
    },
    {
      "cell_type": "code",
      "source": [
        "import h5py\n",
        "import modisco.util\n",
        "from importlib import reload\n",
        "reload(modisco.util)\n",
        "![[ -e results.hdf5 ]] && rm results.hdf5\n",
        "grp = h5py.File(\"results.hdf5\", \"w\")\n",
        "tfmodisco_results.save_hdf5(grp)\n",
        "grp.close()"
      ],
      "metadata": {
        "id": "LlVnZ0NHVGS8"
      },
      "execution_count": 14,
      "outputs": []
    },
    {
      "cell_type": "code",
      "source": [
        "from collections import Counter\n",
        "import numpy as np\n",
        "\n",
        "from modisco.visualization import viz_sequence\n",
        "reload(viz_sequence)\n",
        "from matplotlib import pyplot as plt\n",
        "\n",
        "import modisco.affinitymat.core\n",
        "reload(modisco.affinitymat.core)\n",
        "import modisco.cluster.phenograph.core\n",
        "reload(modisco.cluster.phenograph.core)\n",
        "import modisco.cluster.phenograph.cluster\n",
        "reload(modisco.cluster.phenograph.cluster)\n",
        "import modisco.cluster.core\n",
        "reload(modisco.cluster.core)\n",
        "import modisco.aggregator\n",
        "reload(modisco.aggregator)\n",
        "\n",
        "hdf5_results = h5py.File(\"results.hdf5\",\"r\")\n",
        "\n",
        "print(\"Metaclusters heatmap\")\n",
        "import seaborn as sns\n",
        "activity_patterns = np.array(hdf5_results['metaclustering_results']['attribute_vectors'])[\n",
        "                    np.array(\n",
        "        [x[0] for x in sorted(\n",
        "                enumerate(hdf5_results['metaclustering_results']['metacluster_indices']),\n",
        "               key=lambda x: x[1])])]\n",
        "sns.heatmap(activity_patterns, center=0)\n",
        "plt.show()\n",
        "\n",
        "metacluster_names = [\n",
        "    x.decode(\"utf-8\") for x in \n",
        "    list(hdf5_results[\"metaclustering_results\"]\n",
        "         [\"all_metacluster_names\"][:])]\n",
        "\n",
        "all_patterns = []\n",
        "background = np.array([0.27, 0.23, 0.23, 0.27])\n",
        "\n",
        "for metacluster_name in metacluster_names:\n",
        "    print(metacluster_name)\n",
        "    metacluster_grp = (hdf5_results[\"metacluster_idx_to_submetacluster_results\"]\n",
        "                                   [metacluster_name])\n",
        "    print(\"activity pattern:\",metacluster_grp[\"activity_pattern\"][:])\n",
        "    all_pattern_names = [x.decode(\"utf-8\") for x in \n",
        "                         list(metacluster_grp[\"seqlets_to_patterns_result\"]\n",
        "                                             [\"patterns\"][\"all_pattern_names\"][:])]\n",
        "    if (len(all_pattern_names)==0):\n",
        "        print(\"No motifs found for this activity pattern\")\n",
        "    for pattern_name in all_pattern_names:\n",
        "        print(metacluster_name, pattern_name)\n",
        "        all_patterns.append((metacluster_name, pattern_name))\n",
        "        pattern = metacluster_grp[\"seqlets_to_patterns_result\"][\"patterns\"][pattern_name]\n",
        "        print(\"total seqlets:\",len(pattern[\"seqlets_and_alnmts\"][\"seqlets\"]))\n",
        "        print(\"onehot, fwd and rev:\")\n",
        "        viz_sequence.plot_weights(viz_sequence.ic_scale(np.array(pattern[\"sequence\"][\"fwd\"]),\n",
        "                                                        background=background)) \n",
        "        viz_sequence.plot_weights(viz_sequence.ic_scale(np.array(pattern[\"sequence\"][\"rev\"]),\n",
        "                                                        background=background)) \n",
        "hdf5_results.close()"
      ],
      "metadata": {
        "colab": {
          "base_uri": "https://localhost:8080/",
          "height": 1000
        },
        "id": "InrrzkenZ5Al",
        "outputId": "52e3538e-17f0-4d9c-8d60-2da68d5aa070"
      },
      "execution_count": 15,
      "outputs": [
        {
          "output_type": "stream",
          "name": "stdout",
          "text": [
            "Metaclusters heatmap\n"
          ]
        },
        {
          "output_type": "display_data",
          "data": {
            "text/plain": [
              "<Figure size 432x288 with 2 Axes>"
            ],
            "image/png": "[encoded data removed]"
          },
          "metadata": {
            "needs_background": "light"
          }
        },
        {
          "output_type": "stream",
          "name": "stdout",
          "text": [
            "metacluster_0\n",
            "activity pattern: [-1]\n",
            "metacluster_0 pattern_0\n",
            "total seqlets: 51\n",
            "onehot, fwd and rev:\n"
          ]
        },
        {
          "output_type": "display_data",
          "data": {
            "text/plain": [
              "<Figure size 1440x144 with 1 Axes>"
            ],
            "image/png": "[encoded data removed]"
          },
          "metadata": {
            "needs_background": "light"
          }
        },
        {
          "output_type": "display_data",
          "data": {
            "text/plain": [
              "<Figure size 1440x144 with 1 Axes>"
            ],
            "image/png": "[encoded data removed]"
          },
          "metadata": {
            "needs_background": "light"
          }
        },
        {
          "output_type": "stream",
          "name": "stdout",
          "text": [
            "metacluster_1\n",
            "activity pattern: [1]\n",
            "metacluster_1 pattern_0\n",
            "total seqlets: 47\n",
            "onehot, fwd and rev:\n"
          ]
        },
        {
          "output_type": "display_data",
          "data": {
            "text/plain": [
              "<Figure size 1440x144 with 1 Axes>"
            ],
            "image/png": "[encoded data removed]"
          },
          "metadata": {
            "needs_background": "light"
          }
        },
        {
          "output_type": "display_data",
          "data": {
            "text/plain": [
              "<Figure size 1440x144 with 1 Axes>"
            ],
            "image/png": "[encoded data removed]"
          },
          "metadata": {
            "needs_background": "light"
          }
        }
      ]
    }
  ],
  "metadata": {
    "accelerator": "GPU",
    "colab": {
      "name": "sequence_pattern.ipynb",
      "provenance": []
    },
    "gpuClass": "standard",
    "kernelspec": {
      "display_name": "Python 3",
      "name": "python3"
    },
    "language_info": {
      "name": "python"
    }
  },
  "nbformat": 4,
  "nbformat_minor": 0
}